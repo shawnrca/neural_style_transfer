{
 "cells": [
  {
   "cell_type": "code",
   "execution_count": 12,
   "metadata": {
    "collapsed": false
   },
   "outputs": [],
   "source": [
    "import tensorflow as tf\n",
    "import numpy as np\n",
    "import os\n",
    "from vgg19 import Vgg19_nts\n",
    "from imageio import imread\n",
    "from skimage import transform\n",
    "import matplotlib.pyplot as plt\n",
    "%matplotlib inline"
   ]
  },
  {
   "cell_type": "code",
   "execution_count": null,
   "metadata": {
    "collapsed": false
   },
   "outputs": [],
   "source": [
    "for i, ratio in enumerate([5e-6]):\n",
    "    vv = Vgg19_nts(content_image_path=\"notredame1-1.jpg\", style_img_path=\"Starry_Night.jpg\", image_size=512, \n",
    "                   ratio_content_to_style=ratio)\n",
    "\n",
    "    images = vv.paint(no_of_epochs=1500, stack_len=8, sample_rate=10)\n",
    "    np.save(\"result_images//{}.npy\".format(i), images)\n"
   ]
  },
  {
   "cell_type": "code",
   "execution_count": null,
   "metadata": {
    "collapsed": true
   },
   "outputs": [],
   "source": []
  }
 ],
 "metadata": {
  "kernelspec": {
   "display_name": "Python 3",
   "language": "python",
   "name": "python3"
  },
  "language_info": {
   "codemirror_mode": {
    "name": "ipython",
    "version": 3
   },
   "file_extension": ".py",
   "mimetype": "text/x-python",
   "name": "python",
   "nbconvert_exporter": "python",
   "pygments_lexer": "ipython3",
   "version": "3.5.4"
  }
 },
 "nbformat": 4,
 "nbformat_minor": 2
}
